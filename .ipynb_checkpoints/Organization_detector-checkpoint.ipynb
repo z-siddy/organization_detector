{
 "cells": [
  {
   "cell_type": "code",
   "execution_count": 40,
   "id": "exempt-people",
   "metadata": {},
   "outputs": [
    {
     "name": "stdout",
     "output_type": "stream",
     "text": [
      "Found 4 organization(-s):\n",
      "\n",
      "Hewlett Packard Enterprise, HPE Haven OnDemandMicrosoft Azure, HPE Haven OnDemand\n",
      "\n",
      "Organizations in text:\n",
      "\n"
     ]
    },
    {
     "data": {
      "text/html": [
       "<span class=\"tex2jax_ignore\"><div class=\"entities\" style=\"line-height: 2.5; direction: ltr\">[\n",
       "<mark class=\"entity\" style=\"background: #E8DAEF; padding: 0.45em 0.6em; margin: 0 0.25em; line-height: 1; border-radius: 0.35em;\">\n",
       "    Hewlett Packard Enterprise\n",
       "    <span style=\"font-size: 0.8em; font-weight: bold; line-height: 1; border-radius: 0.35em; vertical-align: middle; margin-left: 0.5rem\">ORG</span>\n",
       "</mark>\n",
       " in 2016 launched \n",
       "<mark class=\"entity\" style=\"background: #E8DAEF; padding: 0.45em 0.6em; margin: 0 0.25em; line-height: 1; border-radius: 0.35em;\">\n",
       "    HPE Haven OnDemand\n",
       "    <span style=\"font-size: 0.8em; font-weight: bold; line-height: 1; border-radius: 0.35em; vertical-align: middle; margin-left: 0.5rem\">ORG</span>\n",
       "</mark>\n",
       ", an innovative cloud platform that provides advanced machine learning APIs and services., The platform enables developers, startups and enterprises to build data-rich mobile and enterprise applications., Its Advanced Text Analysis helps excerpt the key meaning from language by employing powerful concept extraction capabilities that go beyond traditional approaches to obtain key concepts, entities, and sentiment from text sources., Delivered as a service on \n",
       "<mark class=\"entity\" style=\"background: #E8DAEF; padding: 0.45em 0.6em; margin: 0 0.25em; line-height: 1; border-radius: 0.35em;\">\n",
       "    Microsoft Azure\n",
       "    <span style=\"font-size: 0.8em; font-weight: bold; line-height: 1; border-radius: 0.35em; vertical-align: middle; margin-left: 0.5rem\">ORG</span>\n",
       "</mark>\n",
       ", \n",
       "<mark class=\"entity\" style=\"background: #E8DAEF; padding: 0.45em 0.6em; margin: 0 0.25em; line-height: 1; border-radius: 0.35em;\">\n",
       "    HPE Haven OnDemand\n",
       "    <span style=\"font-size: 0.8em; font-weight: bold; line-height: 1; border-radius: 0.35em; vertical-align: middle; margin-left: 0.5rem\">ORG</span>\n",
       "</mark>\n",
       " provides more than 60 APIs and services that deliver deep learning analytics on a wide range of data.</br>]</div></span>"
      ],
      "text/plain": [
       "<IPython.core.display.HTML object>"
      ]
     },
     "metadata": {},
     "output_type": "display_data"
    }
   ],
   "source": [
    "import spacy\n",
    "from spacy import displacy\n",
    "from collections import Counter\n",
    "import en_core_web_sm\n",
    "nlp = en_core_web_sm.load()\n",
    "\n",
    "text = open('input.txt','r')\n",
    "doc = nlp(text.read())\n",
    "\n",
    "organizations = []\n",
    "\n",
    "for entity in doc.ents:\n",
    "    if entity.label_ == 'ORG': organizations.append(entity.text)\n",
    "        \n",
    "print(f'Found {len(organizations)} organization(-s):\\n')\n",
    "for org in organizations:\n",
    "    print(org, end = (', ', '')[org == organizations[-1]])\n",
    "\n",
    "sentences = [x for x in doc.sents]\n",
    "\n",
    "print('\\n\\nOrganizations in text:\\n')\n",
    "\n",
    "options = {\"ents\": ['ORG'], \"colors\": {\"ORG\":\"#E8DAEF\"}}\n",
    "displacy.render(nlp(str(sentences)), jupyter=True, style='ent', options=options)"
   ]
  }
 ],
 "metadata": {
  "kernelspec": {
   "display_name": "Python 3",
   "language": "python",
   "name": "python3"
  },
  "language_info": {
   "codemirror_mode": {
    "name": "ipython",
    "version": 3
   },
   "file_extension": ".py",
   "mimetype": "text/x-python",
   "name": "python",
   "nbconvert_exporter": "python",
   "pygments_lexer": "ipython3",
   "version": "3.9.2"
  }
 },
 "nbformat": 4,
 "nbformat_minor": 5
}
