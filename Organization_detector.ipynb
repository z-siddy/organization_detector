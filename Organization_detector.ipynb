{
 "cells": [
  {
   "cell_type": "code",
   "execution_count": null,
   "id": "exempt-people",
   "metadata": {},
   "outputs": [],
   "source": [
    "import spacy\n",
    "from spacy import displacy\n",
    "from collections import Counter\n",
    "import en_core_web_sm\n",
    "nlp = en_core_web_sm.load()\n",
    "\n",
    "text = open('input2.txt','r')\n",
    "doc = nlp(text.read())\n",
    "\n",
    "organizations = []\n",
    "\n",
    "for entity in doc.ents:\n",
    "    if entity.label_ == 'ORG': organizations.append(entity.text)\n",
    "        \n",
    "print(f'Found {len(organizations)} organization(-s):\\n')\n",
    "for org in organizations:\n",
    "    print(org, end = (', ', '')[org == organizations[-1]])\n",
    "\n",
    "sentences = [x for x in doc.sents]\n",
    "\n",
    "print('\\n\\nOrganizations in text:\\n')\n",
    "\n",
    "options = {\"ents\": ['ORG'], \"colors\": {\"ORG\":\"#E8DAEF\"}}\n",
    "displacy.render(nlp(str(sentences)), jupyter=True, style='ent', options=options)"
   ]
  },
  {
   "cell_type": "code",
   "execution_count": null,
   "id": "rough-connection",
   "metadata": {},
   "outputs": [],
   "source": []
  }
 ],
 "metadata": {
  "kernelspec": {
   "display_name": "Python 3",
   "language": "python",
   "name": "python3"
  },
  "language_info": {
   "codemirror_mode": {
    "name": "ipython",
    "version": 3
   },
   "file_extension": ".py",
   "mimetype": "text/x-python",
   "name": "python",
   "nbconvert_exporter": "python",
   "pygments_lexer": "ipython3",
   "version": "3.9.2"
  }
 },
 "nbformat": 4,
 "nbformat_minor": 5
}
